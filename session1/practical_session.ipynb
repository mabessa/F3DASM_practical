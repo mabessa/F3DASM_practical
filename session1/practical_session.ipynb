{
 "cells": [
  {
   "cell_type": "markdown",
   "metadata": {
    "slideshow": {
     "slide_type": "slide"
    }
   },
   "source": [
    "# Practical session demo (students)\n",
    "\n",
    "We are going to take a look at the different functionalities:\n",
    "* Create a design of experiments\n",
    "* Sample from this space\n",
    "* Evaluate the samples using a well-known benchmark function\n",
    "* Iteratively find the minimum of the loss-landscape using a global optimizer\n",
    "* Look at one of the example experiments: 20D Ackley optimization with CMAES"
   ]
  },
  {
   "cell_type": "markdown",
   "metadata": {},
   "source": [
    "First, we download the solution to the exercises from GitHub in order to check your answers:"
   ]
  },
  {
   "cell_type": "code",
   "execution_count": 1,
   "metadata": {},
   "outputs": [],
   "source": [
    "!wget -q -cO - https://github.com/mpvanderschelling/F3DASM_practical/blob/main/session1/exercise_best_sample.obj?raw=true > exercise_best_sample.obj\n",
    "!wget -q -cO - https://github.com/mpvanderschelling/F3DASM_practical/blob/main/session1/exercise_adam_optimization.obj?raw=true > exercise_adam_optimization.obj\n",
    "!wget -q -cO - https://github.com/mpvanderschelling/F3DASM_practical/blob/main/session1/exercise_pso_optimization.obj?raw=true > exercise_pso_optimization.obj\n",
    "!wget -q -cO - https://github.com/mpvanderschelling/F3DASM_practical/blob/main/session1/exercise_samples_lhs.obj?raw=true > exercise_samples_lhs.obj\n",
    "!wget -q -cO - https://github.com/mpvanderschelling/F3DASM_practical/blob/main/session1/exercise_samples_random.obj?raw=true > exercise_samples_random.obj"
   ]
  },
  {
   "cell_type": "markdown",
   "metadata": {},
   "source": [
    "import the `f3dasm` package:"
   ]
  },
  {
   "cell_type": "code",
   "execution_count": 2,
   "metadata": {},
   "outputs": [
    {
     "name": "stdout",
     "output_type": "stream",
     "text": [
      "Note: you may need to restart the kernel to use updated packages.\n"
     ]
    },
    {
     "name": "stderr",
     "output_type": "stream",
     "text": [
      "2022-11-30 11:53:30.154556: I tensorflow/core/platform/cpu_feature_guard.cc:193] This TensorFlow binary is optimized with oneAPI Deep Neural Network Library (oneDNN) to use the following CPU instructions in performance-critical operations:  AVX2 AVX512F AVX512_VNNI FMA\n",
      "To enable them in other operations, rebuild TensorFlow with the appropriate compiler flags.\n",
      "2022-11-30 11:53:30.311063: I tensorflow/core/util/port.cc:104] oneDNN custom operations are on. You may see slightly different numerical results due to floating-point round-off errors from different computation orders. To turn them off, set the environment variable `TF_ENABLE_ONEDNN_OPTS=0`.\n",
      "2022-11-30 11:53:30.967910: W tensorflow/compiler/xla/stream_executor/platform/default/dso_loader.cc:64] Could not load dynamic library 'libnvinfer.so.7'; dlerror: libnvinfer.so.7: cannot open shared object file: No such file or directory; LD_LIBRARY_PATH: /usr/local/cuda-11.1/lib64\n",
      "2022-11-30 11:53:30.967983: W tensorflow/compiler/xla/stream_executor/platform/default/dso_loader.cc:64] Could not load dynamic library 'libnvinfer_plugin.so.7'; dlerror: libnvinfer_plugin.so.7: cannot open shared object file: No such file or directory; LD_LIBRARY_PATH: /usr/local/cuda-11.1/lib64\n",
      "2022-11-30 11:53:30.967989: W tensorflow/compiler/tf2tensorrt/utils/py_utils.cc:38] TF-TRT Warning: Cannot dlopen some TensorRT libraries. If you would like to use Nvidia GPU with TensorRT, please make sure the missing libraries mentioned above are installed properly.\n"
     ]
    }
   ],
   "source": [
    "# If f3dasm is not found, install the correct version from pip\n",
    "try:\n",
    "    import f3dasm\n",
    "except ModuleNotFoundError:\n",
    "    %pip install f3dasm==0.2.5 --quiet\n",
    "    import f3dasm"
   ]
  },
  {
   "cell_type": "code",
   "execution_count": 3,
   "metadata": {},
   "outputs": [
    {
     "name": "stdout",
     "output_type": "stream",
     "text": [
      "Your f3dasm version is 0.2.5!\n"
     ]
    }
   ],
   "source": [
    "# Check if you got the right version, otherwise uninstall this version!\n",
    "\n",
    "import os\n",
    "\n",
    "if f3dasm.__version__ != '0.2.5':\n",
    "    %pip uninstall -y f3dasm\n",
    "    os._exit(00)\n",
    "    # The kernel will be restarted and you need to run the notebook again!\n",
    "    \n",
    "print(f\"Your f3dasm version is {f3dasm.__version__}!\")"
   ]
  },
  {
   "cell_type": "markdown",
   "metadata": {
    "slideshow": {
     "slide_type": "slide"
    }
   },
   "source": [
    "import some other packages:"
   ]
  },
  {
   "cell_type": "code",
   "execution_count": 4,
   "metadata": {
    "slideshow": {
     "slide_type": "fragment"
    }
   },
   "outputs": [],
   "source": [
    "import numpy as np\n",
    "import pandas as pd\n",
    "import matplotlib.pyplot as plt\n",
    "import copy\n",
    "import pytest\n",
    "from cycler import cycler"
   ]
  },
  {
   "cell_type": "markdown",
   "metadata": {
    "slideshow": {
     "slide_type": "fragment"
    }
   },
   "source": [
    "make sure that we specify a `seed`:"
   ]
  },
  {
   "cell_type": "code",
   "execution_count": 5,
   "metadata": {
    "slideshow": {
     "slide_type": "fragment"
    }
   },
   "outputs": [],
   "source": [
    "seed = 42"
   ]
  },
  {
   "cell_type": "markdown",
   "metadata": {
    "slideshow": {
     "slide_type": "slide"
    }
   },
   "source": [
    "### Design: Creating the design space"
   ]
  },
  {
   "cell_type": "markdown",
   "metadata": {
    "slideshow": {
     "slide_type": "fragment"
    }
   },
   "source": [
    "**Parameters**\n",
    "\n",
    "There are three different parameters you can construct:\n",
    "* We can create continuous parameters with a `lower_bound` and `upper_bound` (optional) with the `f3dasm.ContinuousParameter` class\n",
    "* We can create discrete parameters with a `lower_bound` and `upper_bound` with the `f3dasm.DiscreteParameter` class\n",
    "* We can create categorical parameters with a list of strings (categories) with the `f3dasm.CategoricalParameter` class\n",
    "\n",
    "all parameters also require a `name`.\n",
    "\n",
    "**Design space**\n",
    "\n",
    "Parameters define the `f3dasm.DesignSpace` and can be constructed by calling the `f3dasm.DesignSpace` class and providing:\n",
    "* a list of input parameters (`input_space`) \n",
    "* a list of output parameters (`output_space`)\n"
   ]
  },
  {
   "cell_type": "markdown",
   "metadata": {
    "slideshow": {
     "slide_type": "slide"
    }
   },
   "source": [
    "***\n",
    "**Exercise #1**\n",
    "\n",
    "Create a `DesignSpace` with the following features:\n",
    "* 2 continuous input parameters named `x0` and `x1`, both with the same range of `-1.0` to `1.0`\n",
    "* 1 continuous output parameter named `y`\n",
    "* Call this designspace `design`\n",
    "***"
   ]
  },
  {
   "cell_type": "code",
   "execution_count": 6,
   "metadata": {
    "slideshow": {
     "slide_type": "skip"
    }
   },
   "outputs": [],
   "source": [
    "## YOUR CODE HERE ##"
   ]
  },
  {
   "cell_type": "code",
   "execution_count": 19,
   "metadata": {
    "slideshow": {
     "slide_type": "skip"
    }
   },
   "outputs": [
    {
     "name": "stdout",
     "output_type": "stream",
     "text": [
      "Correct answer!\n"
     ]
    }
   ],
   "source": [
    "## CHECK ##\n",
    "\n",
    "assert design == f3dasm.make_nd_continuous_design(bounds=np.tile([-1., 1.], (2,1)), dimensionality=2), \"Your answer is incorrect :(\"\n",
    "print(\"Correct answer!\")"
   ]
  },
  {
   "cell_type": "markdown",
   "metadata": {
    "slideshow": {
     "slide_type": "slide"
    }
   },
   "source": [
    "What's next? We can sample from this design space with the **sampling** block!"
   ]
  },
  {
   "cell_type": "markdown",
   "metadata": {
    "slideshow": {
     "slide_type": "fragment"
    }
   },
   "source": [
    "### Sampling: Latin Hypercube Sampler"
   ]
  },
  {
   "cell_type": "markdown",
   "metadata": {
    "slideshow": {
     "slide_type": "fragment"
    }
   },
   "source": [
    "Samplers can be found within the submodule `f3dasm.sampling`. Currently 3 samplers are readily available:\n",
    "* Random Uniform Sampling (`f3dasm.sampling.RandomUniform`)\n",
    "* [Latin Hypercube Sampling](https://en.wikipedia.org/wiki/Latin_hypercube_sampling)(`f3dasm.sampling.LatinHypercube`)\n",
    "* [Sobol Sequence Sampling](https://en.wikipedia.org/wiki/Sobol_sequence) (`f3dasm.sampling.SobolSequence`)\n",
    "\n",
    "**Creating a sampler object**\n",
    "A new sampler can be created by initializing the sampler with:\n",
    "* A design space\n",
    "* A random seed (optional)\n",
    "\n",
    "After that, you can sample by invoking the `get_samples(numsamples)`, where `numsamples` is the number of samples you want to get"
   ]
  },
  {
   "cell_type": "markdown",
   "metadata": {
    "slideshow": {
     "slide_type": "slide"
    }
   },
   "source": [
    "***\n",
    "<b>Exercise #2</b>\n",
    "\n",
    "Now you are going to create a sampler and sample some points from the designspace:\n",
    "* Create a <u>Random Uniform sampling</u> with the designspace and seed described above\n",
    "* Sample 30 points from the designspace\n",
    "* Store the resulting `Data`-object in the variable `samples_random`\n",
    "* Do the same with <u>Latin Hypercube sampling</u> and store the samples as `samples_lhs`\n",
    "***"
   ]
  },
  {
   "cell_type": "code",
   "execution_count": 9,
   "metadata": {
    "slideshow": {
     "slide_type": "skip"
    }
   },
   "outputs": [],
   "source": [
    "## YOUR CODE HERE ##\n",
    "\n",
    "\n",
    "\n",
    "# If you are stuck you may uncomment the following lines to import the data object directly:\n",
    "# samples_lhs = f3dasm.read_pickle('exercise_samples_lhs')\n",
    "# samples_random = f3dasm.read_pickle('exercise_samples_random')"
   ]
  },
  {
   "cell_type": "code",
   "execution_count": 23,
   "metadata": {
    "slideshow": {
     "slide_type": "skip"
    }
   },
   "outputs": [
    {
     "ename": "EOFError",
     "evalue": "Ran out of input",
     "output_type": "error",
     "traceback": [
      "\u001b[0;31m---------------------------------------------------------------------------\u001b[0m",
      "\u001b[0;31mEOFError\u001b[0m                                  Traceback (most recent call last)",
      "\u001b[0;32m/tmp/ipykernel_98418/3331960120.py\u001b[0m in \u001b[0;36m<module>\u001b[0;34m\u001b[0m\n\u001b[1;32m      1\u001b[0m \u001b[0;31m## CHECK ##\u001b[0m\u001b[0;34m\u001b[0m\u001b[0;34m\u001b[0m\u001b[0;34m\u001b[0m\u001b[0m\n\u001b[1;32m      2\u001b[0m \u001b[0;34m\u001b[0m\u001b[0m\n\u001b[0;32m----> 3\u001b[0;31m \u001b[0;32massert\u001b[0m \u001b[0msamples_lhs\u001b[0m\u001b[0;34m.\u001b[0m\u001b[0mdata\u001b[0m\u001b[0;34m.\u001b[0m\u001b[0mequals\u001b[0m\u001b[0;34m(\u001b[0m\u001b[0mf3dasm\u001b[0m\u001b[0;34m.\u001b[0m\u001b[0mread_pickle\u001b[0m\u001b[0;34m(\u001b[0m\u001b[0;34m'exercise_samples_lhs'\u001b[0m\u001b[0;34m)\u001b[0m\u001b[0;34m.\u001b[0m\u001b[0mdata\u001b[0m\u001b[0;34m)\u001b[0m\u001b[0;34m,\u001b[0m \u001b[0;34m\"Your answer is incorrect :(\"\u001b[0m\u001b[0;34m\u001b[0m\u001b[0;34m\u001b[0m\u001b[0m\n\u001b[0m\u001b[1;32m      4\u001b[0m \u001b[0;32massert\u001b[0m \u001b[0msamples_random\u001b[0m\u001b[0;34m.\u001b[0m\u001b[0mdata\u001b[0m\u001b[0;34m.\u001b[0m\u001b[0mequals\u001b[0m\u001b[0;34m(\u001b[0m\u001b[0mf3dasm\u001b[0m\u001b[0;34m.\u001b[0m\u001b[0mread_pickle\u001b[0m\u001b[0;34m(\u001b[0m\u001b[0;34m'exercise_samples_random'\u001b[0m\u001b[0;34m)\u001b[0m\u001b[0;34m.\u001b[0m\u001b[0mdata\u001b[0m\u001b[0;34m)\u001b[0m\u001b[0;34m,\u001b[0m \u001b[0;34m\"Your answer is incorrect :(\"\u001b[0m\u001b[0;34m\u001b[0m\u001b[0;34m\u001b[0m\u001b[0m\n\u001b[1;32m      5\u001b[0m \u001b[0mprint\u001b[0m\u001b[0;34m(\u001b[0m\u001b[0;34m\"Correct answer!\"\u001b[0m\u001b[0;34m)\u001b[0m\u001b[0;34m\u001b[0m\u001b[0;34m\u001b[0m\u001b[0m\n",
      "\u001b[0;32m~/miniconda3/envs/f3dasm_env2/lib/python3.7/site-packages/f3dasm/base/utils.py\u001b[0m in \u001b[0;36mread_pickle\u001b[0;34m(name)\u001b[0m\n\u001b[1;32m     88\u001b[0m     \"\"\"\n\u001b[1;32m     89\u001b[0m     \u001b[0;32mwith\u001b[0m \u001b[0mopen\u001b[0m\u001b[0;34m(\u001b[0m\u001b[0;34mf\"{name}.obj\"\u001b[0m\u001b[0;34m,\u001b[0m \u001b[0;34m\"rb\"\u001b[0m\u001b[0;34m)\u001b[0m \u001b[0;32mas\u001b[0m \u001b[0mf\u001b[0m\u001b[0;34m:\u001b[0m\u001b[0;34m\u001b[0m\u001b[0;34m\u001b[0m\u001b[0m\n\u001b[0;32m---> 90\u001b[0;31m         \u001b[0mobj\u001b[0m \u001b[0;34m=\u001b[0m \u001b[0mpickle\u001b[0m\u001b[0;34m.\u001b[0m\u001b[0mload\u001b[0m\u001b[0;34m(\u001b[0m\u001b[0mf\u001b[0m\u001b[0;34m)\u001b[0m\u001b[0;34m\u001b[0m\u001b[0;34m\u001b[0m\u001b[0m\n\u001b[0m\u001b[1;32m     91\u001b[0m     \u001b[0;32mreturn\u001b[0m \u001b[0mobj\u001b[0m\u001b[0;34m\u001b[0m\u001b[0;34m\u001b[0m\u001b[0m\n\u001b[1;32m     92\u001b[0m \u001b[0;34m\u001b[0m\u001b[0m\n",
      "\u001b[0;31mEOFError\u001b[0m: Ran out of input"
     ]
    }
   ],
   "source": [
    "## CHECK ##\n",
    "\n",
    "assert samples_lhs.data.equals(f3dasm.read_pickle('exercise_samples_lhs').data), \"Your answer is incorrect :(\"\n",
    "assert samples_random.data.equals(f3dasm.read_pickle('exercise_samples_random').data), \"Your answer is incorrect :(\"\n",
    "print(\"Correct answer!\")"
   ]
  },
  {
   "cell_type": "markdown",
   "metadata": {
    "slideshow": {
     "slide_type": "slide"
    }
   },
   "source": [
    "We can plot the datapoints with the `data.plot()` function:"
   ]
  },
  {
   "cell_type": "code",
   "execution_count": null,
   "metadata": {
    "slideshow": {
     "slide_type": "fragment"
    }
   },
   "outputs": [],
   "source": [
    "fig, ax = samples_lhs.plot(input_par1='x0', input_par2='x1')"
   ]
  },
  {
   "cell_type": "code",
   "execution_count": null,
   "metadata": {
    "slideshow": {
     "slide_type": "fragment"
    }
   },
   "outputs": [],
   "source": [
    "samples_random.data"
   ]
  },
  {
   "cell_type": "markdown",
   "metadata": {
    "slideshow": {
     "slide_type": "slide"
    }
   },
   "source": [
    "As you could see earlier, the output values are all `NaN`. Let's evaluate the samples with a benchmark function from the **simulation** block!"
   ]
  },
  {
   "cell_type": "markdown",
   "metadata": {
    "slideshow": {
     "slide_type": "fragment"
    }
   },
   "source": [
    "### Simulation: Evaluating a benchmark function"
   ]
  },
  {
   "cell_type": "markdown",
   "metadata": {
    "slideshow": {
     "slide_type": "fragment"
    }
   },
   "source": [
    "Several benchmark functions have been implemented in the submodule `f3dasm.functions` to work with **continuous and single-objective** optimization problems.\n",
    "\n",
    "These functions require an input-vector $\\mathbf{x}$ and output a scalar $f(\\mathbf{x})$\n",
    "\n",
    "The `Levy()` function is a well-known, multimodal function:\n",
    "\n",
    "$f(\\textbf{x}) = \\sin^2 (\\pi w_1) + \\sum_{i = 1}^{D - 1} (w_i - 1)^2 \\left( 1 + 10 \\sin^2 (\\pi w_i + 1) \\right) + (w_d - 1)^2 (1 + \\sin^2 (2 \\pi w_d)) \\\\ w_i = 1 + \\frac{x_i - 1}{4}`\n",
    "$\n"
   ]
  },
  {
   "cell_type": "markdown",
   "metadata": {
    "slideshow": {
     "slide_type": "slide"
    }
   },
   "source": [
    "First we create such a function `f` by creating an object from the `f3dasm.functions.Levy` class\n",
    "\n",
    "> *The original input domain is (-10, 10), but we scale these boundaries to the boundaries our input space*"
   ]
  },
  {
   "cell_type": "code",
   "execution_count": null,
   "metadata": {
    "slideshow": {
     "slide_type": "fragment"
    }
   },
   "outputs": [],
   "source": [
    "dim = 2\n",
    "domain = np.tile([-1., 1.], (dim,1))"
   ]
  },
  {
   "cell_type": "code",
   "execution_count": null,
   "metadata": {
    "slideshow": {
     "slide_type": "fragment"
    }
   },
   "outputs": [],
   "source": [
    "f = f3dasm.functions.Levy(dimensionality=dim, seed=seed, scale_bounds=design.get_bounds())"
   ]
  },
  {
   "cell_type": "markdown",
   "metadata": {
    "slideshow": {
     "slide_type": "fragment"
    }
   },
   "source": [
    "The global minima are known for these functions and can be accesed by the `get_global_minimum()` function:"
   ]
  },
  {
   "cell_type": "code",
   "execution_count": null,
   "metadata": {
    "slideshow": {
     "slide_type": "fragment"
    }
   },
   "outputs": [],
   "source": [
    "x_min, y_min = f.get_global_minimum(dim)\n",
    "print(f\"The global minimum is {y_min} at position {x_min}\")"
   ]
  },
  {
   "cell_type": "markdown",
   "metadata": {
    "slideshow": {
     "slide_type": "slide"
    }
   },
   "source": [
    "We can plot a three-dimensional loss-landscape of the two input parameters $x_0$ and $x_1$ with the `plot()` function:\n",
    "* `px` denotes the resolution on each axis\n",
    "* `domain` denotes the domain of the two axis to be plotted"
   ]
  },
  {
   "cell_type": "code",
   "execution_count": null,
   "metadata": {
    "slideshow": {
     "slide_type": "slide"
    }
   },
   "outputs": [],
   "source": [
    "fig, ax = f.plot(px=100, domain=domain)"
   ]
  },
  {
   "cell_type": "markdown",
   "metadata": {
    "slideshow": {
     "slide_type": "slide"
    }
   },
   "source": [
    "Evaluating the function is easy, just pass either:\n",
    "* the `Data()` object to it: `get_input_data()`\n",
    "* or a 2D numpy array: `get_input_data().to_numpy()`\n",
    "\n",
    ".. and all the samples will be evaluated.\n",
    "The output will be a `np.ndarray`"
   ]
  },
  {
   "cell_type": "code",
   "execution_count": null,
   "metadata": {
    "slideshow": {
     "slide_type": "fragment"
    }
   },
   "outputs": [],
   "source": [
    "x = samples_lhs.get_input_data()"
   ]
  },
  {
   "cell_type": "markdown",
   "metadata": {
    "slideshow": {
     "slide_type": "fragment"
    }
   },
   "source": [
    "By calling the `add_output` option, we can add individual columns or overwrite data to our DataFrame:"
   ]
  },
  {
   "cell_type": "code",
   "execution_count": null,
   "metadata": {
    "slideshow": {
     "slide_type": "fragment"
    }
   },
   "outputs": [],
   "source": [
    "samples_lhs.add_output(output=f(x.to_numpy()))"
   ]
  },
  {
   "cell_type": "code",
   "execution_count": null,
   "metadata": {
    "slideshow": {
     "slide_type": "slide"
    }
   },
   "outputs": [],
   "source": [
    "samples_lhs.show()"
   ]
  },
  {
   "cell_type": "markdown",
   "metadata": {
    "slideshow": {
     "slide_type": "fragment"
    }
   },
   "source": [
    "We can create a contour plot with the samples coordinates with the `plot_data()` function: "
   ]
  },
  {
   "cell_type": "code",
   "execution_count": null,
   "metadata": {
    "scrolled": true,
    "slideshow": {
     "slide_type": "slide"
    }
   },
   "outputs": [],
   "source": [
    "fig, ax = f.plot_data(samples_lhs,px=300,domain=domain)"
   ]
  },
  {
   "cell_type": "markdown",
   "metadata": {
    "slideshow": {
     "slide_type": "fragment"
    }
   },
   "source": [
    "> The red star will indicate the best sample\n",
    "\n"
   ]
  },
  {
   "cell_type": "markdown",
   "metadata": {
    "slideshow": {
     "slide_type": "slide"
    }
   },
   "source": [
    "***\n",
    "**Exercise #3**\n",
    "\n",
    "* By consulting the documentation, find the location of the best sample obtainted by Latin Hypercube sampling (the red star)\n",
    "* Store this value as `x_best`\n",
    "***"
   ]
  },
  {
   "cell_type": "code",
   "execution_count": null,
   "metadata": {
    "slideshow": {
     "slide_type": "skip"
    }
   },
   "outputs": [],
   "source": [
    "## YOUR CODE HERE ##\n"
   ]
  },
  {
   "cell_type": "code",
   "execution_count": null,
   "metadata": {
    "slideshow": {
     "slide_type": "skip"
    }
   },
   "outputs": [],
   "source": [
    "## CHECK ##\n",
    "\n",
    "assert (x_best == f3dasm.read_pickle('exercise_best_sample')).all(), \"Your answer is incorrect :(\"\n",
    "print(\"Correct answer!\")"
   ]
  },
  {
   "cell_type": "markdown",
   "metadata": {
    "slideshow": {
     "slide_type": "slide"
    }
   },
   "source": [
    "Now we will take a look how we can find the minimum of this loss-function with an optimizer!"
   ]
  },
  {
   "cell_type": "markdown",
   "metadata": {
    "slideshow": {
     "slide_type": "fragment"
    }
   },
   "source": [
    "### Optimization: CMAES optimizer\n",
    "\n",
    "Optimizers can be found in the submodule `f3dasm.optimization` and are ported from several libraries such as `GPyOpt`, `scipy-optimize`, `tensorflow` and `pygmo`\n",
    "\n",
    "We will use the CMAES optimizer to find the minimum. We can find an implementation in the `f3dasm.optimization` module:"
   ]
  },
  {
   "cell_type": "code",
   "execution_count": null,
   "metadata": {
    "slideshow": {
     "slide_type": "fragment"
    }
   },
   "outputs": [],
   "source": [
    "optimizer = f3dasm.optimization.CMAES(data=copy.copy(samples_lhs), seed=seed)"
   ]
  },
  {
   "cell_type": "markdown",
   "metadata": {
    "slideshow": {
     "slide_type": "fragment"
    }
   },
   "source": [
    "By calling the `iterate()` method and specifying the function and the number of iterations, we will start the optimization process:"
   ]
  },
  {
   "cell_type": "code",
   "execution_count": null,
   "metadata": {
    "slideshow": {
     "slide_type": "fragment"
    }
   },
   "outputs": [],
   "source": [
    "optimizer.iterate(iterations=100, function=f)"
   ]
  },
  {
   "cell_type": "markdown",
   "metadata": {
    "slideshow": {
     "slide_type": "fragment"
    }
   },
   "source": [
    "After that, we can extract the data:"
   ]
  },
  {
   "cell_type": "code",
   "execution_count": null,
   "metadata": {
    "slideshow": {
     "slide_type": "fragment"
    }
   },
   "outputs": [],
   "source": [
    "cmaes_data = optimizer.extract_data()"
   ]
  },
  {
   "cell_type": "markdown",
   "metadata": {
    "slideshow": {
     "slide_type": "fragment"
    }
   },
   "source": [
    "... and create a contour plot again:"
   ]
  },
  {
   "cell_type": "code",
   "execution_count": null,
   "metadata": {
    "slideshow": {
     "slide_type": "slide"
    }
   },
   "outputs": [],
   "source": [
    "fig, ax = f.plot_data(data=cmaes_data,px=300, domain=domain)"
   ]
  },
  {
   "cell_type": "markdown",
   "metadata": {
    "slideshow": {
     "slide_type": "slide"
    }
   },
   "source": [
    "**Hyperparameters**\n",
    "\n",
    "You can overwrite the default hyperparameters of each optimizer by supplying a dictionary to the optimizer initializer.\n",
    "The parameters of the optimizer can be viewed by calling the `parameter` attribute:"
   ]
  },
  {
   "cell_type": "code",
   "execution_count": null,
   "metadata": {
    "slideshow": {
     "slide_type": "fragment"
    }
   },
   "outputs": [],
   "source": [
    "optimizer.parameter"
   ]
  },
  {
   "cell_type": "markdown",
   "metadata": {
    "slideshow": {
     "slide_type": "slide"
    }
   },
   "source": [
    "***\n",
    "**Exercise #4**\n",
    "* Retrieve the default `learning_rate` parameter of the `Adam` optimizer\n",
    "* Optimize the same `Levy()`-function 50 iterations but now with the `Adam` optimizer with a `learning_rate` parameter of `2.0e-3`\n",
    "* Extract the data and call it `adam_data`\n",
    "* Plot the loss-landscape and data with the `plot_data` function\n",
    "***\n"
   ]
  },
  {
   "cell_type": "code",
   "execution_count": null,
   "metadata": {
    "slideshow": {
     "slide_type": "skip"
    }
   },
   "outputs": [],
   "source": [
    "## YOUR CODE HERE ##\n"
   ]
  },
  {
   "cell_type": "code",
   "execution_count": null,
   "metadata": {
    "slideshow": {
     "slide_type": "skip"
    }
   },
   "outputs": [],
   "source": [
    "## CHECK ##\n",
    "\n",
    "assert f3dasm.read_pickle('exercise_adam_optimization').data.to_numpy() == pytest.approx(adam_data.data.to_numpy()), \"Your answer is incorrect :(\"\n",
    "print(\"Correct answer!\")"
   ]
  },
  {
   "cell_type": "markdown",
   "metadata": {
    "slideshow": {
     "slide_type": "slide"
    }
   },
   "source": [
    "### Experiment: Multiple realizations of SGD on 20D Ackley function\n",
    "\n",
    "Now we take a look at an example of an experiment where use the following blocks to optimize a 20D Ackley function with the CMAES optimizer over 10 different realizations:"
   ]
  },
  {
   "cell_type": "code",
   "execution_count": null,
   "metadata": {
    "slideshow": {
     "slide_type": "fragment"
    }
   },
   "outputs": [],
   "source": [
    "# Define the blocks:\n",
    "dimensionality = 20\n",
    "iterations = 600\n",
    "realizations = 10\n",
    "\n",
    "hyperparameters= {} # If none are selected, the default ones are used\n",
    "\n",
    "domain = np.tile([-1., 1.], (dimensionality,1))\n",
    "design = f3dasm.make_nd_continuous_design(bounds=domain, dimensionality=dimensionality)\n",
    "data = f3dasm.Data(design)"
   ]
  },
  {
   "cell_type": "code",
   "execution_count": null,
   "metadata": {
    "slideshow": {
     "slide_type": "fragment"
    }
   },
   "outputs": [],
   "source": [
    "# We can put them in a dictionary if we want\n",
    "\n",
    "implementation = {\n",
    "'realizations': realizations,\n",
    "'optimizer': f3dasm.optimization.SGD(data=data, hyperparameters=hyperparameters), \n",
    "'function': f3dasm.functions.Ackley(dimensionality=dimensionality, scale_bounds=design.get_bounds()),\n",
    "'sampler': f3dasm.sampling.LatinHypercube(design, seed=seed),\n",
    "'iterations': iterations,\n",
    "'seed': seed\n",
    "}"
   ]
  },
  {
   "cell_type": "markdown",
   "metadata": {
    "slideshow": {
     "slide_type": "slide"
    }
   },
   "source": [
    "The `run_multiple_realizations()` function will be the pipeline of this experiment:"
   ]
  },
  {
   "cell_type": "code",
   "execution_count": null,
   "metadata": {
    "slideshow": {
     "slide_type": "fragment"
    }
   },
   "outputs": [],
   "source": [
    "results = f3dasm.run_multiple_realizations(**implementation)"
   ]
  },
  {
   "cell_type": "code",
   "execution_count": null,
   "metadata": {
    "slideshow": {
     "slide_type": "notes"
    }
   },
   "outputs": [],
   "source": [
    "cc = (cycler(color=list('bgrcmyk')) *\n",
    "      cycler(linestyle=['-', '--', 'dotted']))"
   ]
  },
  {
   "cell_type": "code",
   "execution_count": null,
   "metadata": {
    "slideshow": {
     "slide_type": "notes"
    }
   },
   "outputs": [],
   "source": [
    "def calc_mean_std(results):\n",
    "    mean_y = pd.concat([d.get_output_data().cummin() for d in results], axis=1).mean(axis=1)\n",
    "    std_y = pd.concat([d.get_output_data().cummin() for d in results], axis=1).std(axis=1)\n",
    "    return mean_y, std_y"
   ]
  },
  {
   "cell_type": "code",
   "execution_count": null,
   "metadata": {
    "slideshow": {
     "slide_type": "notes"
    }
   },
   "outputs": [],
   "source": [
    "def create_axis(results: f3dasm.OptimizationResult, ax):\n",
    "    mean_y, _ = calc_mean_std(results.data)\n",
    "\n",
    "    ax.plot(mean_y, label=f\"optimizer={results.optimizer}\")\n",
    "    return ax"
   ]
  },
  {
   "cell_type": "code",
   "execution_count": null,
   "metadata": {
    "slideshow": {
     "slide_type": "notes"
    }
   },
   "outputs": [],
   "source": [
    "def plot_results(results: f3dasm.OptimizationResult, logscale: bool = True, ax = None, fig = None):\n",
    "    if fig is None:\n",
    "        fig = plt.figure(figsize=(15,6))\n",
    "    \n",
    "    if ax is None:\n",
    "        ax = plt.axes()\n",
    "\n",
    "    ax.set_xlabel('iterations')\n",
    "    ax.set_ylabel('f(x)')\n",
    "    if logscale:\n",
    "        ax.set_yscale('log')\n",
    "    ax.set_prop_cycle(cc)\n",
    "\n",
    "    for _, res in enumerate([results]):\n",
    "        ax = create_axis(res, ax)\n",
    "\n",
    "    ax.legend(loc='upper right', ncol=3, fancybox=True, shadow=True)\n",
    "    return fig, ax"
   ]
  },
  {
   "cell_type": "code",
   "execution_count": null,
   "metadata": {
    "slideshow": {
     "slide_type": "slide"
    }
   },
   "outputs": [],
   "source": [
    "fig, ax = plot_results(results, logscale=False)"
   ]
  },
  {
   "cell_type": "markdown",
   "metadata": {
    "slideshow": {
     "slide_type": "slide"
    }
   },
   "source": [
    "We can change a hyper-parameter such as the `learning_rate` and rerun the experiment with ease:"
   ]
  },
  {
   "cell_type": "code",
   "execution_count": null,
   "metadata": {
    "slideshow": {
     "slide_type": "subslide"
    }
   },
   "outputs": [],
   "source": [
    "implementation.update({'optimizer': f3dasm.optimization.SGD(data=data, hyperparameters={'learning_rate': 3e-2})})\n",
    "results_2 = f3dasm.run_multiple_realizations(**implementation)"
   ]
  },
  {
   "cell_type": "code",
   "execution_count": null,
   "metadata": {
    "slideshow": {
     "slide_type": "slide"
    }
   },
   "outputs": [],
   "source": [
    "fig2, ax2 = plot_results(results_2, logscale=False, ax=ax, fig=fig)\n",
    "fig2"
   ]
  },
  {
   "cell_type": "markdown",
   "metadata": {
    "slideshow": {
     "slide_type": "slide"
    }
   },
   "source": [
    "***\n",
    "\n",
    "**Exercise #5**\n",
    "\n",
    "Replicate the following experiment:\n",
    "* Create a 6-dimensional, continuous design space with bounds for every dimension `-1.0` and `1.0`.\n",
    "* Create a 6-dimensional, noiseless `Schwefel` function\n",
    "* Create 40 initial samples by sampling from `SobolSequence`\n",
    "* Optimize the function for 500 iterations and 5 realizations with the `PSO` optimizer. Use the default hyperparameters.\n",
    "* Store the resulted `f3dasm.OptimizerResult`-object in the variable `pso_data`\n",
    "\n",
    "*Hint #1: you can use the `f3dasm.make_nd_continuous_design()` function to quickly make a suitable design space.*\n",
    "\n",
    "*Hint #2: a suitable domain has already been coded for you*\n",
    "****"
   ]
  },
  {
   "cell_type": "code",
   "execution_count": null,
   "metadata": {
    "slideshow": {
     "slide_type": "skip"
    }
   },
   "outputs": [],
   "source": [
    "## YOUR CODE HERE ##\n",
    "\n",
    "# Use this domain\n",
    "dimensionality = 6\n",
    "domain = np.tile([-1., 1.], (dimensionality,1))"
   ]
  },
  {
   "cell_type": "code",
   "execution_count": null,
   "metadata": {
    "slideshow": {
     "slide_type": "skip"
    }
   },
   "outputs": [],
   "source": [
    "## CHECK ##\n",
    "\n",
    "pso_data: f3dasm.OptimizationResult = f3dasm.read_pickle('exercise_pso_optimization')\n",
    "\n",
    "for index, result in enumerate(pso_data.data):\n",
    "    assert result.data.to_numpy() == pytest.approx(pso_data.data[index].data.to_numpy()), \"Your answer is incorrect :(\"\n",
    "\n",
    "print(\"Correct answer!\")"
   ]
  },
  {
   "cell_type": "markdown",
   "metadata": {
    "slideshow": {
     "slide_type": "slide"
    }
   },
   "source": [
    "The average performance of the optimize can be plotted:"
   ]
  },
  {
   "cell_type": "code",
   "execution_count": null,
   "metadata": {
    "slideshow": {
     "slide_type": "fragment"
    }
   },
   "outputs": [],
   "source": [
    "plot_results(pso_data, logscale=False)"
   ]
  },
  {
   "cell_type": "markdown",
   "metadata": {},
   "source": [
    "This marks the end of the first practical session of the `f3dasm` framework!\n",
    "\n",
    "If you have any comments, questions or remarks feel free to reach out to me!\n",
    "\n",
    "***"
   ]
  }
 ],
 "metadata": {
  "celltoolbar": "Slideshow",
  "kernelspec": {
   "display_name": "Python 3.7.12 ('f3dasm_env2')",
   "language": "python",
   "name": "python3"
  },
  "language_info": {
   "codemirror_mode": {
    "name": "ipython",
    "version": 3
   },
   "file_extension": ".py",
   "mimetype": "text/x-python",
   "name": "python",
   "nbconvert_exporter": "python",
   "pygments_lexer": "ipython3",
   "version": "3.7.12"
  },
  "vscode": {
   "interpreter": {
    "hash": "f45089fc4d6167869e7370c5b47568ce8eb74326038b740d9fc0c36d2e164509"
   }
  }
 },
 "nbformat": 4,
 "nbformat_minor": 2
}
