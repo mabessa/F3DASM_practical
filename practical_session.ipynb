{
 "cells": [
  {
   "cell_type": "markdown",
   "metadata": {
    "slideshow": {
     "slide_type": "slide"
    }
   },
   "source": [
    "# Practical session demo (students)\n",
    "\n",
    "We are going to take a look at the different functionalities:\n",
    "* Create a design of experiments\n",
    "* Sample from this space\n",
    "* Evaluate the samples using a well-known benchmark function\n",
    "* Iteratively find the minimum of the loss-landscape using a global optimizer\n",
    "* Look at one of the example experiments: 20D Ackley optimization with CMAES"
   ]
  },
  {
   "cell_type": "markdown",
   "metadata": {
    "slideshow": {
     "slide_type": "slide"
    }
   },
   "source": [
    "import the `f3dasm` package, and some other packages:"
   ]
  },
  {
   "cell_type": "code",
   "execution_count": 1,
   "metadata": {
    "slideshow": {
     "slide_type": "fragment"
    }
   },
   "outputs": [
    {
     "name": "stderr",
     "output_type": "stream",
     "text": [
      "2022-11-23 09:48:56.458460: I tensorflow/core/platform/cpu_feature_guard.cc:193] This TensorFlow binary is optimized with oneAPI Deep Neural Network Library (oneDNN) to use the following CPU instructions in performance-critical operations:  SSE4.1 SSE4.2 AVX AVX2 AVX512F AVX512_VNNI FMA\n",
      "To enable them in other operations, rebuild TensorFlow with the appropriate compiler flags.\n",
      "2022-11-23 09:48:56.590202: I tensorflow/core/util/util.cc:169] oneDNN custom operations are on. You may see slightly different numerical results due to floating-point round-off errors from different computation orders. To turn them off, set the environment variable `TF_ENABLE_ONEDNN_OPTS=0`.\n"
     ]
    }
   ],
   "source": [
    "import f3dasm\n",
    "\n",
    "import numpy as np\n",
    "import pandas as pd\n",
    "import matplotlib.pyplot as plt\n",
    "import copy\n",
    "import pytest\n",
    "from cycler import cycler"
   ]
  },
  {
   "cell_type": "markdown",
   "metadata": {
    "slideshow": {
     "slide_type": "fragment"
    }
   },
   "source": [
    "make sure that we specify a `seed`:"
   ]
  },
  {
   "cell_type": "code",
   "execution_count": 2,
   "metadata": {
    "slideshow": {
     "slide_type": "fragment"
    }
   },
   "outputs": [],
   "source": [
    "seed = 42"
   ]
  },
  {
   "cell_type": "markdown",
   "metadata": {
    "slideshow": {
     "slide_type": "slide"
    }
   },
   "source": [
    "### Design: Creating the design space"
   ]
  },
  {
   "cell_type": "markdown",
   "metadata": {
    "slideshow": {
     "slide_type": "fragment"
    }
   },
   "source": [
    "**Parameters**\n",
    "\n",
    "There are three different parameters you can construct:\n",
    "* We can create continuous parameters with a `lower_bound` and `upper_bound` (optional) with the `f3dasm.ContinuousParameter` class\n",
    "* We can create discrete parameters with a `lower_bound` and `upper_bound` with the `f3dasm.DiscreteParameter` class\n",
    "* We can create categorical parameters with a list of strings (categories) with the `f3dasm.CategoricalParameter` class\n",
    "\n",
    "all parameters also require a `name`.\n",
    "\n",
    "**Design space**\n",
    "\n",
    "Parameters define the `f3dasm.DesignSpace` and can be constructed by calling the `f3dasm.DesignSpace` class and providing:\n",
    "* a list of input parameters (`input_space`) \n",
    "* a list of output parameters (`output_space`)\n"
   ]
  },
  {
   "cell_type": "markdown",
   "metadata": {
    "slideshow": {
     "slide_type": "slide"
    }
   },
   "source": [
    "***\n",
    "**Exercise #1**\n",
    "\n",
    "Create a `DesignSpace` with the following features:\n",
    "* 2 continuous input parameters named `x0` and `x1`, both with the same range of `-1.0` to `1.0`\n",
    "* 1 continuous output parameter named `y`\n",
    "* Call this designspace `design`\n",
    "***"
   ]
  },
  {
   "cell_type": "code",
   "execution_count": 3,
   "metadata": {
    "slideshow": {
     "slide_type": "skip"
    }
   },
   "outputs": [],
   "source": [
    "## YOUR CODE HERE ##"
   ]
  },
  {
   "cell_type": "code",
   "execution_count": 5,
   "metadata": {
    "slideshow": {
     "slide_type": "skip"
    }
   },
   "outputs": [],
   "source": [
    "## CHECK ##\n",
    "\n",
    "assert design == f3dasm.make_nd_continuous_design(bounds=np.tile([-1., 1.], (2,1)), dimensionality=2)"
   ]
  },
  {
   "cell_type": "markdown",
   "metadata": {
    "slideshow": {
     "slide_type": "slide"
    }
   },
   "source": [
    "What's next? We can sample from this design space with the **sampling** block!"
   ]
  },
  {
   "cell_type": "markdown",
   "metadata": {
    "slideshow": {
     "slide_type": "fragment"
    }
   },
   "source": [
    "### Sampling: Latin Hypercube Sampler"
   ]
  },
  {
   "cell_type": "markdown",
   "metadata": {
    "slideshow": {
     "slide_type": "fragment"
    }
   },
   "source": [
    "Samplers can be found within the submodule `f3dasm.sampling`. Currently 3 samplers are readily available:\n",
    "* Random Uniform Sampling (`f3dasm.sampling.RandomUniform`)\n",
    "* Latin Hypercube Sampling(`f3dasm.sampling.LatinHypercube`)\n",
    "* Sobol Sequence Sampling (`f3dasm.sampling.SobolSequence`)\n",
    "\n",
    "**Creating a sampler object**\n",
    "A new sampler can be created by initializing the sampler with:\n",
    "* A design space\n",
    "* A random seed (optional)\n",
    "\n",
    "After that, you can sample by invoking the `get_samples(numsamples)`, where `numsamples` is the number of samples you want to get"
   ]
  },
  {
   "cell_type": "markdown",
   "metadata": {
    "slideshow": {
     "slide_type": "slide"
    }
   },
   "source": [
    "***\n",
    "<b>Exercise #2</b>\n",
    "\n",
    "Now you are going to create a sampler and sample some points from the designspace:\n",
    "* Create a <u>Random Uniform sampling</u> with the designspace and seed described above\n",
    "* Sample 30 points from the designspace\n",
    "* Store the resulting `Data`-object in the variable `samples_random`\n",
    "* Do the same with <u>Latin Hypercube sampling</u> and store the samples as `samples_lhs`\n",
    "***"
   ]
  },
  {
   "cell_type": "code",
   "execution_count": 6,
   "metadata": {
    "slideshow": {
     "slide_type": "skip"
    }
   },
   "outputs": [],
   "source": [
    "## YOUR CODE HERE ##\n",
    "\n",
    "\n",
    "\n",
    "# If you are stuck you may uncomment the following lines to import the data object directly:\n",
    "# samples_lhs = f3dasm.read_pickle('exercise_samples_lhs')\n",
    "# samples_random = f3dasm.read_pickle('exercise_samples_random')"
   ]
  },
  {
   "cell_type": "code",
   "execution_count": 8,
   "metadata": {},
   "outputs": [
    {
     "data": {
      "text/plain": [
       "Data(design=DesignSpace(input_space=[ContinuousParameter(name='x0', _type='float', lower_bound=-1.0, upper_bound=1.0), ContinuousParameter(name='x1', _type='float', lower_bound=-1.0, upper_bound=1.0)], output_space=[ContinuousParameter(name='y', _type='float', lower_bound=-inf, upper_bound=inf)]), data=       input           output\n",
       "          x0        x1      y\n",
       "0  -0.250920  0.901429    NaN\n",
       "1   0.463988  0.197317    NaN\n",
       "2  -0.687963 -0.688011    NaN\n",
       "3  -0.883833  0.732352    NaN\n",
       "4   0.202230  0.416145    NaN\n",
       "5  -0.958831  0.939820    NaN\n",
       "6   0.664885 -0.575322    NaN\n",
       "7  -0.636350 -0.633191    NaN\n",
       "8  -0.391516  0.049513    NaN\n",
       "9  -0.136110 -0.417542    NaN\n",
       "10  0.223706 -0.721012    NaN\n",
       "11 -0.415711 -0.267276    NaN\n",
       "12 -0.087860  0.570352    NaN\n",
       "13 -0.600652  0.028469    NaN\n",
       "14  0.184829 -0.907099    NaN\n",
       "15  0.215090 -0.658952    NaN\n",
       "16 -0.869897  0.897771    NaN\n",
       "17  0.931264  0.616795    NaN\n",
       "18 -0.390772 -0.804656    NaN\n",
       "19  0.368466 -0.119695    NaN\n",
       "20 -0.755924 -0.009646    NaN\n",
       "21 -0.931223  0.818641    NaN\n",
       "22 -0.482440  0.325045    NaN\n",
       "23 -0.376578  0.040136    NaN\n",
       "24  0.093421 -0.630291    NaN\n",
       "25  0.939169  0.550266    NaN\n",
       "26  0.878998  0.789655    NaN\n",
       "27  0.195800  0.843748    NaN\n",
       "28 -0.823015 -0.608034    NaN\n",
       "29 -0.909545 -0.349339    NaN)"
      ]
     },
     "execution_count": 8,
     "metadata": {},
     "output_type": "execute_result"
    }
   ],
   "source": [
    "samples_random"
   ]
  },
  {
   "cell_type": "code",
   "execution_count": 9,
   "metadata": {
    "slideshow": {
     "slide_type": "skip"
    }
   },
   "outputs": [],
   "source": [
    "## CHECK ##\n",
    "\n",
    "assert samples_lhs.data.equals(f3dasm.read_pickle('exercise_samples_lhs').data)\n",
    "assert samples_random.data.equals(f3dasm.read_pickle('exercise_samples_random').data)"
   ]
  },
  {
   "cell_type": "markdown",
   "metadata": {
    "slideshow": {
     "slide_type": "slide"
    }
   },
   "source": [
    "We can plot the datapoints with the `data.plot()` function:"
   ]
  },
  {
   "cell_type": "code",
   "execution_count": 10,
   "metadata": {
    "slideshow": {
     "slide_type": "fragment"
    }
   },
   "outputs": [
    {
     "data": {
      "image/png": "[encoded data removed]",
      "text/plain": [
       "<Figure size 640x480 with 1 Axes>"
      ]
     },
     "metadata": {},
     "output_type": "display_data"
    }
   ],
   "source": [
    "fig, ax = samples_lhs.plot(input_par1='x0', input_par2='x1')"
   ]
  },
  {
   "cell_type": "code",
   "execution_count": 11,
   "metadata": {
    "slideshow": {
     "slide_type": "fragment"
    }
   },
   "outputs": [
    {
     "data": {
      "text/html": [
       "<div>\n",
       "<style scoped>\n",
       "    .dataframe tbody tr th:only-of-type {\n",
       "        vertical-align: middle;\n",
       "    }\n",
       "\n",
       "    .dataframe tbody tr th {\n",
       "        vertical-align: top;\n",
       "    }\n",
       "\n",
       "    .dataframe thead tr th {\n",
       "        text-align: left;\n",
       "    }\n",
       "</style>\n",
       "<table border=\"1\" class=\"dataframe\">\n",
       "  <thead>\n",
       "    <tr>\n",
       "      <th></th>\n",
       "      <th colspan=\"2\" halign=\"left\">input</th>\n",
       "      <th>output</th>\n",
       "    </tr>\n",
       "    <tr>\n",
       "      <th></th>\n",
       "      <th>x0</th>\n",
       "      <th>x1</th>\n",
       "      <th>y</th>\n",
       "    </tr>\n",
       "  </thead>\n",
       "  <tbody>\n",
       "    <tr>\n",
       "      <th>0</th>\n",
       "      <td>-0.250920</td>\n",
       "      <td>0.901429</td>\n",
       "      <td>NaN</td>\n",
       "    </tr>\n",
       "    <tr>\n",
       "      <th>1</th>\n",
       "      <td>0.463988</td>\n",
       "      <td>0.197317</td>\n",
       "      <td>NaN</td>\n",
       "    </tr>\n",
       "    <tr>\n",
       "      <th>2</th>\n",
       "      <td>-0.687963</td>\n",
       "      <td>-0.688011</td>\n",
       "      <td>NaN</td>\n",
       "    </tr>\n",
       "    <tr>\n",
       "      <th>3</th>\n",
       "      <td>-0.883833</td>\n",
       "      <td>0.732352</td>\n",
       "      <td>NaN</td>\n",
       "    </tr>\n",
       "    <tr>\n",
       "      <th>4</th>\n",
       "      <td>0.202230</td>\n",
       "      <td>0.416145</td>\n",
       "      <td>NaN</td>\n",
       "    </tr>\n",
       "    <tr>\n",
       "      <th>5</th>\n",
       "      <td>-0.958831</td>\n",
       "      <td>0.939820</td>\n",
       "      <td>NaN</td>\n",
       "    </tr>\n",
       "    <tr>\n",
       "      <th>6</th>\n",
       "      <td>0.664885</td>\n",
       "      <td>-0.575322</td>\n",
       "      <td>NaN</td>\n",
       "    </tr>\n",
       "    <tr>\n",
       "      <th>7</th>\n",
       "      <td>-0.636350</td>\n",
       "      <td>-0.633191</td>\n",
       "      <td>NaN</td>\n",
       "    </tr>\n",
       "    <tr>\n",
       "      <th>8</th>\n",
       "      <td>-0.391516</td>\n",
       "      <td>0.049513</td>\n",
       "      <td>NaN</td>\n",
       "    </tr>\n",
       "    <tr>\n",
       "      <th>9</th>\n",
       "      <td>-0.136110</td>\n",
       "      <td>-0.417542</td>\n",
       "      <td>NaN</td>\n",
       "    </tr>\n",
       "    <tr>\n",
       "      <th>10</th>\n",
       "      <td>0.223706</td>\n",
       "      <td>-0.721012</td>\n",
       "      <td>NaN</td>\n",
       "    </tr>\n",
       "    <tr>\n",
       "      <th>11</th>\n",
       "      <td>-0.415711</td>\n",
       "      <td>-0.267276</td>\n",
       "      <td>NaN</td>\n",
       "    </tr>\n",
       "    <tr>\n",
       "      <th>12</th>\n",
       "      <td>-0.087860</td>\n",
       "      <td>0.570352</td>\n",
       "      <td>NaN</td>\n",
       "    </tr>\n",
       "    <tr>\n",
       "      <th>13</th>\n",
       "      <td>-0.600652</td>\n",
       "      <td>0.028469</td>\n",
       "      <td>NaN</td>\n",
       "    </tr>\n",
       "    <tr>\n",
       "      <th>14</th>\n",
       "      <td>0.184829</td>\n",
       "      <td>-0.907099</td>\n",
       "      <td>NaN</td>\n",
       "    </tr>\n",
       "    <tr>\n",
       "      <th>15</th>\n",
       "      <td>0.215090</td>\n",
       "      <td>-0.658952</td>\n",
       "      <td>NaN</td>\n",
       "    </tr>\n",
       "    <tr>\n",
       "      <th>16</th>\n",
       "      <td>-0.869897</td>\n",
       "      <td>0.897771</td>\n",
       "      <td>NaN</td>\n",
       "    </tr>\n",
       "    <tr>\n",
       "      <th>17</th>\n",
       "      <td>0.931264</td>\n",
       "      <td>0.616795</td>\n",
       "      <td>NaN</td>\n",
       "    </tr>\n",
       "    <tr>\n",
       "      <th>18</th>\n",
       "      <td>-0.390772</td>\n",
       "      <td>-0.804656</td>\n",
       "      <td>NaN</td>\n",
       "    </tr>\n",
       "    <tr>\n",
       "      <th>19</th>\n",
       "      <td>0.368466</td>\n",
       "      <td>-0.119695</td>\n",
       "      <td>NaN</td>\n",
       "    </tr>\n",
       "    <tr>\n",
       "      <th>20</th>\n",
       "      <td>-0.755924</td>\n",
       "      <td>-0.009646</td>\n",
       "      <td>NaN</td>\n",
       "    </tr>\n",
       "    <tr>\n",
       "      <th>21</th>\n",
       "      <td>-0.931223</td>\n",
       "      <td>0.818641</td>\n",
       "      <td>NaN</td>\n",
       "    </tr>\n",
       "    <tr>\n",
       "      <th>22</th>\n",
       "      <td>-0.482440</td>\n",
       "      <td>0.325045</td>\n",
       "      <td>NaN</td>\n",
       "    </tr>\n",
       "    <tr>\n",
       "      <th>23</th>\n",
       "      <td>-0.376578</td>\n",
       "      <td>0.040136</td>\n",
       "      <td>NaN</td>\n",
       "    </tr>\n",
       "    <tr>\n",
       "      <th>24</th>\n",
       "      <td>0.093421</td>\n",
       "      <td>-0.630291</td>\n",
       "      <td>NaN</td>\n",
       "    </tr>\n",
       "    <tr>\n",
       "      <th>25</th>\n",
       "      <td>0.939169</td>\n",
       "      <td>0.550266</td>\n",
       "      <td>NaN</td>\n",
       "    </tr>\n",
       "    <tr>\n",
       "      <th>26</th>\n",
       "      <td>0.878998</td>\n",
       "      <td>0.789655</td>\n",
       "      <td>NaN</td>\n",
       "    </tr>\n",
       "    <tr>\n",
       "      <th>27</th>\n",
       "      <td>0.195800</td>\n",
       "      <td>0.843748</td>\n",
       "      <td>NaN</td>\n",
       "    </tr>\n",
       "    <tr>\n",
       "      <th>28</th>\n",
       "      <td>-0.823015</td>\n",
       "      <td>-0.608034</td>\n",
       "      <td>NaN</td>\n",
       "    </tr>\n",
       "    <tr>\n",
       "      <th>29</th>\n",
       "      <td>-0.909545</td>\n",
       "      <td>-0.349339</td>\n",
       "      <td>NaN</td>\n",
       "    </tr>\n",
       "  </tbody>\n",
       "</table>\n",
       "</div>"
      ],
      "text/plain": [
       "       input           output\n",
       "          x0        x1      y\n",
       "0  -0.250920  0.901429    NaN\n",
       "1   0.463988  0.197317    NaN\n",
       "2  -0.687963 -0.688011    NaN\n",
       "3  -0.883833  0.732352    NaN\n",
       "4   0.202230  0.416145    NaN\n",
       "5  -0.958831  0.939820    NaN\n",
       "6   0.664885 -0.575322    NaN\n",
       "7  -0.636350 -0.633191    NaN\n",
       "8  -0.391516  0.049513    NaN\n",
       "9  -0.136110 -0.417542    NaN\n",
       "10  0.223706 -0.721012    NaN\n",
       "11 -0.415711 -0.267276    NaN\n",
       "12 -0.087860  0.570352    NaN\n",
       "13 -0.600652  0.028469    NaN\n",
       "14  0.184829 -0.907099    NaN\n",
       "15  0.215090 -0.658952    NaN\n",
       "16 -0.869897  0.897771    NaN\n",
       "17  0.931264  0.616795    NaN\n",
       "18 -0.390772 -0.804656    NaN\n",
       "19  0.368466 -0.119695    NaN\n",
       "20 -0.755924 -0.009646    NaN\n",
       "21 -0.931223  0.818641    NaN\n",
       "22 -0.482440  0.325045    NaN\n",
       "23 -0.376578  0.040136    NaN\n",
       "24  0.093421 -0.630291    NaN\n",
       "25  0.939169  0.550266    NaN\n",
       "26  0.878998  0.789655    NaN\n",
       "27  0.195800  0.843748    NaN\n",
       "28 -0.823015 -0.608034    NaN\n",
       "29 -0.909545 -0.349339    NaN"
      ]
     },
     "execution_count": 11,
     "metadata": {},
     "output_type": "execute_result"
    }
   ],
   "source": [
    "samples_random.data"
   ]
  },
  {
   "cell_type": "markdown",
   "metadata": {
    "slideshow": {
     "slide_type": "slide"
    }
   },
   "source": [
    "As you could see earlier, the output values are all `NaN`. Let's evaluate the samples with a benchmark function from the **simulation** block!"
   ]
  },
  {
   "cell_type": "markdown",
   "metadata": {
    "slideshow": {
     "slide_type": "fragment"
    }
   },
   "source": [
    "### Simulation: Evaluating a benchmark function"
   ]
  },
  {
   "cell_type": "markdown",
   "metadata": {
    "slideshow": {
     "slide_type": "fragment"
    }
   },
   "source": [
    "Several benchmark functions have been implemented in the submodule `f3dasm.functions` to work with **continuous and single-objective** optimization problems.\n",
    "\n",
    "These functions require an input-vector $\\mathbf{x}$ and output a scalar $f(\\mathbf{x})$\n",
    "\n",
    "The `Levy()` function is a well-known, multimodal function:\n",
    "\n",
    "$f(\\textbf{x}) = \\sin^2 (\\pi w_1) + \\sum_{i = 1}^{D - 1} (w_i - 1)^2 \\left( 1 + 10 \\sin^2 (\\pi w_i + 1) \\right) + (w_d - 1)^2 (1 + \\sin^2 (2 \\pi w_d)) \\\\ w_i = 1 + \\frac{x_i - 1}{4}`\n",
    "$\n"
   ]
  },
  {
   "cell_type": "markdown",
   "metadata": {
    "slideshow": {
     "slide_type": "slide"
    }
   },
   "source": [
    "First we create such a function `f` by creating an object from the `f3dasm.functions.Levy` class\n",
    "\n",
    "> *The original input domain is (-10, 10), but we scale these boundaries to the boundaries our input space*"
   ]
  },
  {
   "cell_type": "code",
   "execution_count": 12,
   "metadata": {
    "slideshow": {
     "slide_type": "fragment"
    }
   },
   "outputs": [],
   "source": [
    "dim = 2\n",
    "domain = np.tile([-1., 1.], (dim,1))"
   ]
  },
  {
   "cell_type": "code",
   "execution_count": 13,
   "metadata": {
    "slideshow": {
     "slide_type": "fragment"
    }
   },
   "outputs": [
    {
     "ename": "AttributeError",
     "evalue": "'DesignSpace' object has no attribute 'get_bounds'",
     "output_type": "error",
     "traceback": [
      "\u001b[0;31m---------------------------------------------------------------------------\u001b[0m",
      "\u001b[0;31mAttributeError\u001b[0m                            Traceback (most recent call last)",
      "Cell \u001b[0;32mIn [13], line 1\u001b[0m\n\u001b[0;32m----> 1\u001b[0m f \u001b[38;5;241m=\u001b[39m f3dasm\u001b[38;5;241m.\u001b[39mfunctions\u001b[38;5;241m.\u001b[39mLevy(dimensionality\u001b[38;5;241m=\u001b[39mdim, seed\u001b[38;5;241m=\u001b[39mseed, scale_bounds\u001b[38;5;241m=\u001b[39m\u001b[43mdesign\u001b[49m\u001b[38;5;241;43m.\u001b[39;49m\u001b[43mget_bounds\u001b[49m())\n",
      "\u001b[0;31mAttributeError\u001b[0m: 'DesignSpace' object has no attribute 'get_bounds'"
     ]
    }
   ],
   "source": [
    "f = f3dasm.functions.Levy(dimensionality=dim, seed=seed, scale_bounds=design.get_bounds())"
   ]
  },
  {
   "cell_type": "markdown",
   "metadata": {
    "slideshow": {
     "slide_type": "fragment"
    }
   },
   "source": [
    "The global minima are known for these functions and can be accesed by the `get_global_minimum()` function:"
   ]
  },
  {
   "cell_type": "code",
   "execution_count": null,
   "metadata": {
    "slideshow": {
     "slide_type": "fragment"
    }
   },
   "outputs": [],
   "source": [
    "x_min, y_min = f.get_global_minimum(dim)\n",
    "print(f\"The global minimum is {y_min} at position {x_min}\")"
   ]
  },
  {
   "cell_type": "markdown",
   "metadata": {
    "slideshow": {
     "slide_type": "slide"
    }
   },
   "source": [
    "We can plot a three-dimensional loss-landscape of the two input parameters $x_0$ and $x_1$ with the `plot()` function:\n",
    "* `px` denotes the resolution on each axis\n",
    "* `domain` denotes the domain of the two axis to be plotted"
   ]
  },
  {
   "cell_type": "code",
   "execution_count": null,
   "metadata": {
    "slideshow": {
     "slide_type": "slide"
    }
   },
   "outputs": [],
   "source": [
    "fig, ax = f.plot(px=100, domain=domain)"
   ]
  },
  {
   "cell_type": "markdown",
   "metadata": {
    "slideshow": {
     "slide_type": "slide"
    }
   },
   "source": [
    "Evaluating the function is easy, just pass either:\n",
    "* the `Data()` object to it: `get_input_data()`\n",
    "* or a 2D numpy array: `get_input_data().to_numpy()`\n",
    "\n",
    ".. and all the samples will be evaluated.\n",
    "The output will be a `np.ndarray`"
   ]
  },
  {
   "cell_type": "code",
   "execution_count": null,
   "metadata": {
    "slideshow": {
     "slide_type": "fragment"
    }
   },
   "outputs": [],
   "source": [
    "x = samples_lhs.get_input_data()"
   ]
  },
  {
   "cell_type": "markdown",
   "metadata": {
    "slideshow": {
     "slide_type": "fragment"
    }
   },
   "source": [
    "By calling the `add_output` option, we can add individual columns or overwrite data to our DataFrame:"
   ]
  },
  {
   "cell_type": "code",
   "execution_count": null,
   "metadata": {
    "slideshow": {
     "slide_type": "fragment"
    }
   },
   "outputs": [],
   "source": [
    "samples_lhs.add_output(output=f(x))"
   ]
  },
  {
   "cell_type": "code",
   "execution_count": null,
   "metadata": {
    "slideshow": {
     "slide_type": "slide"
    }
   },
   "outputs": [],
   "source": [
    "samples_lhs.show()"
   ]
  },
  {
   "cell_type": "markdown",
   "metadata": {
    "slideshow": {
     "slide_type": "fragment"
    }
   },
   "source": [
    "We can create a contour plot with the samples coordinates with the `plot_data()` function: "
   ]
  },
  {
   "cell_type": "code",
   "execution_count": null,
   "metadata": {
    "scrolled": true,
    "slideshow": {
     "slide_type": "slide"
    }
   },
   "outputs": [],
   "source": [
    "fig, ax = f.plot_data(samples_lhs,px=300,domain=domain)"
   ]
  },
  {
   "cell_type": "markdown",
   "metadata": {
    "slideshow": {
     "slide_type": "fragment"
    }
   },
   "source": [
    "> The red star will indicate the best sample\n",
    "\n"
   ]
  },
  {
   "cell_type": "markdown",
   "metadata": {
    "slideshow": {
     "slide_type": "slide"
    }
   },
   "source": [
    "***\n",
    "**Exercise #3**\n",
    "\n",
    "* By consulting the documentation, find the location of the best sample obtainted by Latin Hypercube sampling (the red star)\n",
    "* Store this value as `x_best`\n",
    "***"
   ]
  },
  {
   "cell_type": "code",
   "execution_count": null,
   "metadata": {
    "slideshow": {
     "slide_type": "skip"
    }
   },
   "outputs": [],
   "source": [
    "## YOUR CODE HERE ##\n"
   ]
  },
  {
   "cell_type": "code",
   "execution_count": null,
   "metadata": {
    "slideshow": {
     "slide_type": "skip"
    }
   },
   "outputs": [],
   "source": [
    "## CHECK ##\n",
    "\n",
    "assert (x_best == f3dasm.read_pickle('exercise_best_sample')).all()"
   ]
  },
  {
   "cell_type": "markdown",
   "metadata": {
    "slideshow": {
     "slide_type": "slide"
    }
   },
   "source": [
    "Now we will take a look how we can find the minimum of this loss-function with an optimizer!"
   ]
  },
  {
   "cell_type": "markdown",
   "metadata": {
    "slideshow": {
     "slide_type": "fragment"
    }
   },
   "source": [
    "### Optimization: CMAES optimizer\n",
    "\n",
    "Optimizers can be found in the submodule `f3dasm.optimization` and are ported from several libraries such as `GPyOpt`, `scipy-optimize`, `tensorflow` and `pygmo`\n",
    "\n",
    "We will use the CMAES optimizer to find the minimum. We can find an implementation in the `f3dasm.optimization` module:"
   ]
  },
  {
   "cell_type": "code",
   "execution_count": null,
   "metadata": {
    "slideshow": {
     "slide_type": "fragment"
    }
   },
   "outputs": [],
   "source": [
    "optimizer = f3dasm.optimization.CMAES(data=copy.copy(samples_lhs))"
   ]
  },
  {
   "cell_type": "markdown",
   "metadata": {
    "slideshow": {
     "slide_type": "fragment"
    }
   },
   "source": [
    "By calling the `iterate()` method and specifying the function and the number of iterations, we will start the optimization process:"
   ]
  },
  {
   "cell_type": "code",
   "execution_count": null,
   "metadata": {
    "slideshow": {
     "slide_type": "fragment"
    }
   },
   "outputs": [],
   "source": [
    "optimizer.iterate(iterations=100, function=f)"
   ]
  },
  {
   "cell_type": "markdown",
   "metadata": {
    "slideshow": {
     "slide_type": "fragment"
    }
   },
   "source": [
    "After that, we can extract the data:"
   ]
  },
  {
   "cell_type": "code",
   "execution_count": null,
   "metadata": {
    "slideshow": {
     "slide_type": "fragment"
    }
   },
   "outputs": [],
   "source": [
    "cmaes_data = optimizer.extract_data()"
   ]
  },
  {
   "cell_type": "markdown",
   "metadata": {
    "slideshow": {
     "slide_type": "fragment"
    }
   },
   "source": [
    "... and create a contour plot again:"
   ]
  },
  {
   "cell_type": "code",
   "execution_count": null,
   "metadata": {
    "slideshow": {
     "slide_type": "slide"
    }
   },
   "outputs": [],
   "source": [
    "fig, ax = f.plot_data(data=cmaes_data,px=300, domain=domain)"
   ]
  },
  {
   "cell_type": "markdown",
   "metadata": {
    "slideshow": {
     "slide_type": "slide"
    }
   },
   "source": [
    "**Hyperparameters**\n",
    "\n",
    "You can overwrite the default hyperparameters of each optimizer by supplying a dictionary to the optimizer initializer.\n",
    "The parameters of the optimizer can be viewed by calling the `parameter` attribute:"
   ]
  },
  {
   "cell_type": "code",
   "execution_count": null,
   "metadata": {
    "slideshow": {
     "slide_type": "fragment"
    }
   },
   "outputs": [],
   "source": [
    "optimizer.parameter"
   ]
  },
  {
   "cell_type": "markdown",
   "metadata": {
    "slideshow": {
     "slide_type": "slide"
    }
   },
   "source": [
    "***\n",
    "**Exercise #4**\n",
    "* Retrieve the default `learning_rate` parameter of the `Adam` optimizer\n",
    "* Optimize the same `Levy()`-function 50 iterations but now with the `Adam` optimizer with a `learning_rate` parameter of `2.0e-3`\n",
    "* Extract the data and call it `adam_data`\n",
    "* Plot the loss-landscape and data with the `plot_data` function\n",
    "***\n"
   ]
  },
  {
   "cell_type": "code",
   "execution_count": null,
   "metadata": {
    "slideshow": {
     "slide_type": "skip"
    }
   },
   "outputs": [],
   "source": [
    "## YOUR CODE HERE ##\n"
   ]
  },
  {
   "cell_type": "code",
   "execution_count": null,
   "metadata": {
    "slideshow": {
     "slide_type": "skip"
    }
   },
   "outputs": [],
   "source": [
    "## CHECK ##\n",
    "\n",
    "assert f3dasm.read_pickle('exercise_adam_optimization').data.to_numpy() == pytest.approx(adam_data.data.to_numpy())"
   ]
  },
  {
   "cell_type": "markdown",
   "metadata": {
    "slideshow": {
     "slide_type": "slide"
    }
   },
   "source": [
    "### Experiment: Multiple realizations of SGD on 20D Ackley function\n",
    "\n",
    "Now we take a look at an example of an experiment where use the following blocks to optimize a 20D Ackley function with the CMAES optimizer over 10 different realizations:"
   ]
  },
  {
   "cell_type": "code",
   "execution_count": null,
   "metadata": {
    "slideshow": {
     "slide_type": "fragment"
    }
   },
   "outputs": [],
   "source": [
    "# Define the blocks:\n",
    "dimensionality = 20\n",
    "iterations = 600\n",
    "realizations = 10\n",
    "\n",
    "hyperparameters= {} # If none are selected, the default ones are used\n",
    "\n",
    "domain = np.tile([-1., 1.], (dimensionality,1))\n",
    "design = f3dasm.make_nd_continuous_design(bounds=domain, dimensionality=dimensionality)\n",
    "data = f3dasm.Data(design)"
   ]
  },
  {
   "cell_type": "code",
   "execution_count": null,
   "metadata": {
    "slideshow": {
     "slide_type": "fragment"
    }
   },
   "outputs": [],
   "source": [
    "# We can put them in a dictionary if we want\n",
    "\n",
    "implementation = {\n",
    "'realizations': realizations,\n",
    "'optimizer': f3dasm.optimization.SGD(data=data, hyperparameters=hyperparameters), \n",
    "'function': f3dasm.functions.Ackley(dimensionality=dimensionality, scale_bounds=design.get_bounds()),\n",
    "'sampler': f3dasm.sampling.LatinHypercube(design, seed=seed),\n",
    "'iterations': iterations,\n",
    "'seed': seed\n",
    "}"
   ]
  },
  {
   "cell_type": "markdown",
   "metadata": {
    "slideshow": {
     "slide_type": "slide"
    }
   },
   "source": [
    "The `run_multiple_realizations()` function will be the pipeline of this experiment:"
   ]
  },
  {
   "cell_type": "code",
   "execution_count": null,
   "metadata": {
    "slideshow": {
     "slide_type": "fragment"
    }
   },
   "outputs": [],
   "source": [
    "results = f3dasm.run_multiple_realizations(**implementation)"
   ]
  },
  {
   "cell_type": "code",
   "execution_count": null,
   "metadata": {
    "slideshow": {
     "slide_type": "notes"
    }
   },
   "outputs": [],
   "source": [
    "cc = (cycler(color=list('bgrcmyk')) *\n",
    "      cycler(linestyle=['-', '--', 'dotted']))"
   ]
  },
  {
   "cell_type": "code",
   "execution_count": null,
   "metadata": {
    "slideshow": {
     "slide_type": "notes"
    }
   },
   "outputs": [],
   "source": [
    "def calc_mean_std(results):\n",
    "    mean_y = pd.concat([d.get_output_data().cummin() for d in results], axis=1).mean(axis=1)\n",
    "    std_y = pd.concat([d.get_output_data().cummin() for d in results], axis=1).std(axis=1)\n",
    "    return mean_y, std_y"
   ]
  },
  {
   "cell_type": "code",
   "execution_count": null,
   "metadata": {
    "slideshow": {
     "slide_type": "notes"
    }
   },
   "outputs": [],
   "source": [
    "def create_axis(results: f3dasm.OptimizationResult, ax):\n",
    "    mean_y, _ = calc_mean_std(results.data)\n",
    "\n",
    "    ax.plot(mean_y, label=f\"optimizer={results.optimizer}\")\n",
    "    return ax"
   ]
  },
  {
   "cell_type": "code",
   "execution_count": null,
   "metadata": {
    "slideshow": {
     "slide_type": "notes"
    }
   },
   "outputs": [],
   "source": [
    "def plot_results(results: f3dasm.OptimizationResult, logscale: bool = True, ax = None, fig = None):\n",
    "    if fig is None:\n",
    "        fig = plt.figure(figsize=(15,6))\n",
    "    \n",
    "    if ax is None:\n",
    "        ax = plt.axes()\n",
    "\n",
    "    ax.set_xlabel('iterations')\n",
    "    ax.set_ylabel('f(x)')\n",
    "    if logscale:\n",
    "        ax.set_yscale('log')\n",
    "    ax.set_prop_cycle(cc)\n",
    "\n",
    "    for _, res in enumerate([results]):\n",
    "        ax = create_axis(res, ax)\n",
    "\n",
    "    ax.legend(loc='upper right', ncol=3, fancybox=True, shadow=True)\n",
    "    return fig, ax"
   ]
  },
  {
   "cell_type": "code",
   "execution_count": null,
   "metadata": {
    "slideshow": {
     "slide_type": "slide"
    }
   },
   "outputs": [],
   "source": [
    "fig, ax = plot_results(results, logscale=False)\n",
    "fig"
   ]
  },
  {
   "cell_type": "markdown",
   "metadata": {
    "slideshow": {
     "slide_type": "slide"
    }
   },
   "source": [
    "We can change a hyper-parameter such as the `learning_rate` and rerun the experiment with ease:"
   ]
  },
  {
   "cell_type": "code",
   "execution_count": null,
   "metadata": {
    "slideshow": {
     "slide_type": "subslide"
    }
   },
   "outputs": [],
   "source": [
    "implementation.update({'optimizer': f3dasm.optimization.SGD(data=data, hyperparameters={'learning_rate': 3e-2})})\n",
    "results_2 = f3dasm.run_multiple_realizations(**implementation)"
   ]
  },
  {
   "cell_type": "code",
   "execution_count": null,
   "metadata": {
    "slideshow": {
     "slide_type": "slide"
    }
   },
   "outputs": [],
   "source": [
    "fig2, ax2 = plot_results(results_2, logscale=False, ax=ax, fig=fig)\n",
    "fig2"
   ]
  },
  {
   "cell_type": "markdown",
   "metadata": {
    "slideshow": {
     "slide_type": "slide"
    }
   },
   "source": [
    "***\n",
    "\n",
    "**Exercise #5**\n",
    "\n",
    "Replicate the following experiment:\n",
    "* Create a 6-dimensional, continuous design space with bounds for every dimension `-1.0` and `1.0`.\n",
    "* Create a 6-dimensional, noiseless `Schwefel` function\n",
    "* Create 40 initial samples by sampling from `SobolSequenceSampling`\n",
    "* Optimize the function for 500 iterations and 5 realizations with the `PSO` optimizer. Use the default hyperparameters.\n",
    "* Store the resulted `f3dasm.OptimizerResult`-object in the variable `pso_data`\n",
    "\n",
    "*Hint #1: you can use the `f3dasm.make_nd_continuous_design()` function to quickly make a suitable design space.*\n",
    "\n",
    "*Hint #2: a suitable domain has already been coded for you*\n",
    "****"
   ]
  },
  {
   "cell_type": "code",
   "execution_count": null,
   "metadata": {
    "slideshow": {
     "slide_type": "skip"
    }
   },
   "outputs": [],
   "source": [
    "## YOUR CODE HERE ##\n",
    "\n",
    "# Use this domain\n",
    "dimensionality = 6\n",
    "domain = np.tile([-1., 1.], (dimensionality,1))"
   ]
  },
  {
   "cell_type": "code",
   "execution_count": null,
   "metadata": {
    "slideshow": {
     "slide_type": "skip"
    }
   },
   "outputs": [],
   "source": [
    "## CHECK ##\n",
    "\n",
    "pso_data: f3dasm.OptimizationResult = f3dasm.read_pickle('exercise_pso_optimization')\n",
    "\n",
    "for index, result in enumerate(results_3.data):\n",
    "    assert result.data.to_numpy() == pytest.approx(pso_data.data[index].data.to_numpy())"
   ]
  },
  {
   "cell_type": "markdown",
   "metadata": {
    "slideshow": {
     "slide_type": "slide"
    }
   },
   "source": [
    "The average performance of the optimize can be plotted:"
   ]
  },
  {
   "cell_type": "code",
   "execution_count": null,
   "metadata": {
    "slideshow": {
     "slide_type": "fragment"
    }
   },
   "outputs": [],
   "source": [
    "plot_results(results_3, logscale=False)"
   ]
  },
  {
   "cell_type": "markdown",
   "metadata": {},
   "source": [
    "This marks the end of the first practical session of the `f3dasm` framework!\n",
    "\n",
    "If you have any comments, questions or remarks feel free to reach out to me!\n",
    "\n",
    "***"
   ]
  }
 ],
 "metadata": {
  "celltoolbar": "Slideshow",
  "kernelspec": {
   "display_name": "Python 3 (ipykernel)",
   "language": "python",
   "name": "python3"
  },
  "language_info": {
   "codemirror_mode": {
    "name": "ipython",
    "version": 3
   },
   "file_extension": ".py",
   "mimetype": "text/x-python",
   "name": "python",
   "nbconvert_exporter": "python",
   "pygments_lexer": "ipython3",
   "version": "3.10.6"
  },
  "vscode": {
   "interpreter": {
    "hash": "cd4aa09bf73c11ef3239c620489b85906b4cadb309e0ddddf54fa55967002edb"
   }
  }
 },
 "nbformat": 4,
 "nbformat_minor": 2
}
